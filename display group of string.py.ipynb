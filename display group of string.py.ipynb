{
 "cells": [
  {
   "cell_type": "code",
   "execution_count": 2,
   "id": "126b4c6b",
   "metadata": {},
   "outputs": [
    {
     "name": "stdout",
     "output_type": "stream",
     "text": [
      "Enter string separated by comma:\n",
      "rani,radha,krishna,paddu,shiri,shailu\n",
      "rani\n",
      "radha\n",
      "krishna\n",
      "paddu\n",
      "shiri\n",
      "shailu\n"
     ]
    }
   ],
   "source": [
    "# A Function to display a group of string\n",
    "def display(lst):\n",
    "        for i in lst:\n",
    "            print(i)\n",
    "print('Enter string separated by comma:')\n",
    "lst=[x for x in input().split(\",\")]\n",
    "display(lst)"
   ]
  }
 ],
 "metadata": {
  "kernelspec": {
   "display_name": "Python 3 (ipykernel)",
   "language": "python",
   "name": "python3"
  },
  "language_info": {
   "codemirror_mode": {
    "name": "ipython",
    "version": 3
   },
   "file_extension": ".py",
   "mimetype": "text/x-python",
   "name": "python",
   "nbconvert_exporter": "python",
   "pygments_lexer": "ipython3",
   "version": "3.10.2"
  }
 },
 "nbformat": 4,
 "nbformat_minor": 5
}
