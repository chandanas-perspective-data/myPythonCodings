{
 "cells": [
  {
   "cell_type": "code",
   "execution_count": null,
   "id": "627491e8",
   "metadata": {},
   "outputs": [],
   "source": [
    "# A Python program to create a generator that returns a sqeuence of number from x to y.\n",
    "def gen(x,y):\n",
    "    while x<=y:\n",
    "        yield"
   ]
  }
 ],
 "metadata": {
  "kernelspec": {
   "display_name": "Python 3 (ipykernel)",
   "language": "python",
   "name": "python3"
  },
  "language_info": {
   "codemirror_mode": {
    "name": "ipython",
    "version": 3
   },
   "file_extension": ".py",
   "mimetype": "text/x-python",
   "name": "python",
   "nbconvert_exporter": "python",
   "pygments_lexer": "ipython3",
   "version": "3.10.2"
  }
 },
 "nbformat": 4,
 "nbformat_minor": 5
}
