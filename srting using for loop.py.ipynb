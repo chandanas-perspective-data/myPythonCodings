{
 "cells": [
  {
   "cell_type": "markdown",
   "id": "39b05fa4",
   "metadata": {},
   "source": [
    " A Python program to access the characters of a string using for loop.\n",
    "\n"
   ]
  },
  {
   "cell_type": "code",
   "execution_count": 1,
   "id": "57068186",
   "metadata": {},
   "outputs": [
    {
     "name": "stdout",
     "output_type": "stream",
     "text": [
      "D a t a s c i e n c e \n",
      "e c n e i c s a t a D "
     ]
    }
   ],
   "source": [
    "str=\"Datascience\"\n",
    "for i in str:\n",
    "    print(i,end=\" \")\n",
    "print()\n",
    "for i in str[::-1]:\n",
    "    print(i,end=\" \")"
   ]
  },
  {
   "cell_type": "code",
   "execution_count": null,
   "id": "c7ef1c61",
   "metadata": {},
   "outputs": [],
   "source": []
  }
 ],
 "metadata": {
  "kernelspec": {
   "display_name": "Python 3 (ipykernel)",
   "language": "python",
   "name": "python3"
  },
  "language_info": {
   "codemirror_mode": {
    "name": "ipython",
    "version": 3
   },
   "file_extension": ".py",
   "mimetype": "text/x-python",
   "name": "python",
   "nbconvert_exporter": "python",
   "pygments_lexer": "ipython3",
   "version": "3.10.2"
  }
 },
 "nbformat": 4,
 "nbformat_minor": 5
}
