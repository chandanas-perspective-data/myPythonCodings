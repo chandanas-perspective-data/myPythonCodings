{
 "cells": [
  {
   "cell_type": "code",
   "execution_count": 2,
   "id": "88d3b4ef",
   "metadata": {},
   "outputs": [
    {
     "name": "stdout",
     "output_type": "stream",
     "text": [
      "hai world\n"
     ]
    }
   ],
   "source": [
    "# A Python program to see how to assign a function to a variable.\n",
    "def display(str):\n",
    "    return 'hai '+str\n",
    "\n",
    "\n",
    "\n",
    "x=display('world')\n",
    "print(x)"
   ]
  },
  {
   "cell_type": "code",
   "execution_count": null,
   "id": "a692f6fb",
   "metadata": {},
   "outputs": [],
   "source": []
  }
 ],
 "metadata": {
  "kernelspec": {
   "display_name": "Python 3 (ipykernel)",
   "language": "python",
   "name": "python3"
  },
  "language_info": {
   "codemirror_mode": {
    "name": "ipython",
    "version": 3
   },
   "file_extension": ".py",
   "mimetype": "text/x-python",
   "name": "python",
   "nbconvert_exporter": "python",
   "pygments_lexer": "ipython3",
   "version": "3.10.2"
  }
 },
 "nbformat": 4,
 "nbformat_minor": 5
}
