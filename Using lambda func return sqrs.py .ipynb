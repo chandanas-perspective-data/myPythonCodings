{
 "cells": [
  {
   "cell_type": "code",
   "execution_count": null,
   "id": "be1a7c7d",
   "metadata": {},
   "outputs": [],
   "source": [
    "# A Lambda function that returns squares of elements in alist.\n",
    "lst=[1,2,3,4,5,6,7,8]\n",
    "lst1=list"
   ]
  }
 ],
 "metadata": {
  "kernelspec": {
   "display_name": "Python 3 (ipykernel)",
   "language": "python",
   "name": "python3"
  },
  "language_info": {
   "codemirror_mode": {
    "name": "ipython",
    "version": 3
   },
   "file_extension": ".py",
   "mimetype": "text/x-python",
   "name": "python",
   "nbconvert_exporter": "python",
   "pygments_lexer": "ipython3",
   "version": "3.10.2"
  }
 },
 "nbformat": 4,
 "nbformat_minor": 5
}
