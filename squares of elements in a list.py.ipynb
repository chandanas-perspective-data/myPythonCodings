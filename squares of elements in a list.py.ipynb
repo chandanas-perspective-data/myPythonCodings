{
 "cells": [
  {
   "cell_type": "code",
   "execution_count": null,
   "id": "66191a05",
   "metadata": {},
   "outputs": [],
   "source": [
    "# A Python program to find squares of elements in a list.\n",
    "def square(x):\n",
    "    return x*x \n",
    "lst=[1,2,3,4,5,6]\n"
   ]
  }
 ],
 "metadata": {
  "kernelspec": {
   "display_name": "Python 3 (ipykernel)",
   "language": "python",
   "name": "python3"
  },
  "language_info": {
   "codemirror_mode": {
    "name": "ipython",
    "version": 3
   },
   "file_extension": ".py",
   "mimetype": "text/x-python",
   "name": "python",
   "nbconvert_exporter": "python",
   "pygments_lexer": "ipython3",
   "version": "3.10.2"
  }
 },
 "nbformat": 4,
 "nbformat_minor": 5
}
