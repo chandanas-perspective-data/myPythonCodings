{
 "cells": [
  {
   "cell_type": "code",
   "execution_count": 3,
   "id": "97da54fc",
   "metadata": {},
   "outputs": [
    {
     "name": "stdout",
     "output_type": "stream",
     "text": [
      "hi \n",
      "your marks 0\n",
      "-----------------\n",
      "hi chandu\n",
      "your marks 910\n",
      "----------------\n"
     ]
    }
   ],
   "source": [
    "# Instance vars and Insatance method\n",
    "class student:\n",
    "    def __init__(self,n='',m=0):# this is constructor\n",
    "        self.name=n\n",
    "        self.marks=m\n",
    "    def display(self):  # this is an instance method\n",
    "        print('hi',self.name)\n",
    "        print('your marks',self.marks)\n",
    "s=student() # constructor is called without any arguments\n",
    "s.display()\n",
    "print('-----------------')\n",
    "s1=student('chandu',910) # constructor is called with 2 arguments\n",
    "s1.display()\n",
    "print('----------------')\n"
   ]
  },
  {
   "cell_type": "code",
   "execution_count": null,
   "id": "06506cb4",
   "metadata": {},
   "outputs": [],
   "source": []
  }
 ],
 "metadata": {
  "kernelspec": {
   "display_name": "Python 3 (ipykernel)",
   "language": "python",
   "name": "python3"
  },
  "language_info": {
   "codemirror_mode": {
    "name": "ipython",
    "version": 3
   },
   "file_extension": ".py",
   "mimetype": "text/x-python",
   "name": "python",
   "nbconvert_exporter": "python",
   "pygments_lexer": "ipython3",
   "version": "3.10.2"
  }
 },
 "nbformat": 4,
 "nbformat_minor": 5
}
